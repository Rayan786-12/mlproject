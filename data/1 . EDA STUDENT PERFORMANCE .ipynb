{
 "cells": [],
 "metadata": {
  "kernelspec": {
   "display_name": "Python (anaconda_env)",
   "language": "python",
   "name": "anaconda_env"
  },
  "language_info": {
   "name": "python",
   "version": "3.12.7"
  }
 },
 "nbformat": 4,
 "nbformat_minor": 5
}
